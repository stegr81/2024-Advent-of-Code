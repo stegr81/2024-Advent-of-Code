{
 "cells": [
  {
   "cell_type": "code",
   "execution_count": 99,
   "id": "0f7aa314-98b4-449f-958c-e9cad9074a44",
   "metadata": {},
   "outputs": [],
   "source": [
    "with open(\"input_day 2.txt\", \"r\") as r:\n",
    "    tx = r.readlines()\n",
    "    r.close()"
   ]
  },
  {
   "cell_type": "code",
   "execution_count": 112,
   "id": "937648af-5c84-42e8-ab58-b2ac9c83c676",
   "metadata": {},
   "outputs": [],
   "source": [
    "#tx"
   ]
  },
  {
   "cell_type": "code",
   "execution_count": 115,
   "id": "a1ab1f31-bf8e-404a-a751-aabe8b306df0",
   "metadata": {},
   "outputs": [],
   "source": [
    "def test_level(x):\n",
    "    stripped_level = [int(x) for x in level if x != ' ']\n",
    "    check_distance = [stripped_level[i+1] - stripped_level[i] for i in range(len(stripped_level)-1)]\n",
    "    if set(check_distance).issubset({1,2,3}) or set(check_distance).issubset({-1,-2,-3}):\n",
    "        return True\n",
    "    return False"
   ]
  },
  {
   "cell_type": "code",
   "execution_count": 116,
   "id": "3e833719-6d33-41ec-9742-12f53b7cabf4",
   "metadata": {},
   "outputs": [
    {
     "name": "stdout",
     "output_type": "stream",
     "text": [
      "359\n"
     ]
    }
   ],
   "source": [
    "count = 0\n",
    "for i in range(len(tx)):\n",
    "    level = tx[i].split(' ')\n",
    "    level = [x.strip('\\n') for x in level]\n",
    "    if test_level(level) == True:\n",
    "        count+=1\n",
    "print(count)"
   ]
  }
 ],
 "metadata": {
  "kernelspec": {
   "display_name": "Python 3 (ipykernel)",
   "language": "python",
   "name": "python3"
  },
  "language_info": {
   "codemirror_mode": {
    "name": "ipython",
    "version": 3
   },
   "file_extension": ".py",
   "mimetype": "text/x-python",
   "name": "python",
   "nbconvert_exporter": "python",
   "pygments_lexer": "ipython3",
   "version": "3.12.2"
  }
 },
 "nbformat": 4,
 "nbformat_minor": 5
}
