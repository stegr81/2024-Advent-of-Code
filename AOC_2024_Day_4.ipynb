{
 "cells": [
  {
   "cell_type": "code",
   "execution_count": 10,
   "id": "86d39260-c309-4c96-a2da-9087afead69f",
   "metadata": {},
   "outputs": [],
   "source": [
    "#! pip install numpy\n",
    "import numpy as np"
   ]
  },
  {
   "cell_type": "code",
   "execution_count": 11,
   "id": "2d163031-aa95-449f-9822-f77289fad9c7",
   "metadata": {},
   "outputs": [],
   "source": [
    "#! pip install pandas\n",
    "import pandas as pd"
   ]
  },
  {
   "cell_type": "code",
   "execution_count": 2,
   "id": "1db6c7f4-0922-429e-8a0a-d51300c83cc8",
   "metadata": {},
   "outputs": [],
   "source": [
    "with open(\"input_day4.txt\", \"r\") as f:\n",
    "    l = f.read().strip().split()\n",
    "\n",
    "rows=len(l)\n",
    "cols = len(l[0])\n",
    "data = [list(line) for line in l]\n",
    "my_array=np.array(data)"
   ]
  },
  {
   "cell_type": "code",
   "execution_count": 3,
   "id": "82f8ec47-67b6-4680-881d-38095b8a4ba4",
   "metadata": {},
   "outputs": [
    {
     "data": {
      "text/plain": [
       "array([['S', 'M', 'X', ..., 'S', 'A', 'M'],\n",
       "       ['M', 'A', 'S', ..., 'M', 'A', 'M'],\n",
       "       ['M', 'A', 'M', ..., 'S', 'X', 'M'],\n",
       "       ...,\n",
       "       ['M', 'S', 'M', ..., 'M', 'M', 'A'],\n",
       "       ['X', 'A', 'A', ..., 'X', 'S', 'S'],\n",
       "       ['M', 'S', 'M', ..., 'M', 'A', 'M']], shape=(140, 140), dtype='<U1')"
      ]
     },
     "execution_count": 3,
     "metadata": {},
     "output_type": "execute_result"
    }
   ],
   "source": [
    "my_array"
   ]
  },
  {
   "cell_type": "code",
   "execution_count": 4,
   "id": "ebdef267-df3c-49a1-a049-48b890c13dd9",
   "metadata": {},
   "outputs": [
    {
     "name": "stdout",
     "output_type": "stream",
     "text": [
      "[['S' 'M' 'X' ... 'S' 'A' 'M']\n",
      " ['M' 'A' 'S' ... 'M' 'A' 'M']\n",
      " ['M' 'A' 'M' ... 'S' 'X' 'M']\n",
      " ...\n",
      " ['M' 'S' 'M' ... 'M' 'M' 'A']\n",
      " ['X' 'A' 'A' ... 'X' 'S' 'S']\n",
      " ['M' 'S' 'M' ... 'M' 'A' 'M']]\n"
     ]
    }
   ],
   "source": [
    "print(my_array)"
   ]
  },
  {
   "cell_type": "code",
   "execution_count": 13,
   "id": "96e4d321-b01c-4d02-89c8-d0ae18dacc28",
   "metadata": {},
   "outputs": [],
   "source": [
    "df = pd.DataFrame(data)"
   ]
  },
  {
   "cell_type": "code",
   "execution_count": 60,
   "id": "1e023c53-e555-48e7-a7a9-59e8ad14406d",
   "metadata": {},
   "outputs": [],
   "source": [
    "def match_(w,x,y,z):\n",
    "    current = df.iloc[w[0]][w[1]]\n",
    "    second = df.iloc[x[0]][x[1]]\n",
    "    third = df.iloc[y[0]][y[1]]\n",
    "    fourth = df.iloc[z[0]][z[1]]\n",
    "    word = f\"{current}{second}{third}{fourth}\"\n",
    "    if word == 'XMAS': # or word == 'SAMX':\n",
    "        return True\n",
    "def search_(i,j):\n",
    "    current_letter = df.iloc[i][j]\n",
    "    current_count = 0\n",
    "    if current_letter == 'X':\n",
    "        if i<=136:\n",
    "            check_down = match_([i,j],[i+1,j],[i+2,j],[i+3,j])\n",
    "            if check_down == True:\n",
    "                #print(f\"found down {i,j}\")\n",
    "                current_count+=1\n",
    "        if i>=3:\n",
    "            check_up = match_([i,j],[i-1,j],[i-2,j],[i-3,j])\n",
    "            if check_up == True:\n",
    "                #print(f\"found up {i,j}\")\n",
    "                current_count+=1\n",
    "        if j>=3:\n",
    "            check_left = match_([i,j],[i,j-1],[i,j-2],[i,j-3])\n",
    "            if check_left == True:\n",
    "                #print(f\"found left {i,j}\")\n",
    "                current_count+=1\n",
    "        if j<=136:\n",
    "            check_right = match_([i,j],[i,j+1],[i,j+2],[i,j+3])\n",
    "            if check_right == True:\n",
    "                #print(f\"found right {i,j}\")\n",
    "                current_count+=1\n",
    "        if i<=136 and j>=3:\n",
    "            check_diag_down_left = match_([i,j],[i+1,j-1],[i+2,j-2],[i+3,j-3])\n",
    "            if check_diag_down_left == True:\n",
    "                #print(f\"found diag down left {i,j}\")\n",
    "                current_count+=1\n",
    "        if i>=3 and j>=3:\n",
    "            check_diag_up_left = match_([i,j],[i-1,j-1],[i-2,j-2],[i-3,j-3])\n",
    "            if check_diag_up_left == True:\n",
    "                #print(f\"found diag up left {i,j}\")\n",
    "                current_count+=1\n",
    "        if i>=3 and j<=136:\n",
    "            check_diag_up_right = match_([i,j],[i-1,j+1],[i-2,j+2],[i-3,j+3])\n",
    "            if check_diag_up_right == True:\n",
    "                #print(f\"found diag up right {i,j}\")\n",
    "                current_count+=1\n",
    "        if i<=136 and j<=136:\n",
    "            check_diag_down_right = match_([i,j],[i+1,j+1],[i+2,j+2],[i+3,j+3])\n",
    "            if check_diag_down_right == True:\n",
    "                #print(f\"found diag down right {i,j}\")\n",
    "                current_count+=1\n",
    "    return current_count"
   ]
  },
  {
   "cell_type": "code",
   "execution_count": 62,
   "id": "07686ad9-dda0-410b-9550-f0d212b9a37b",
   "metadata": {},
   "outputs": [],
   "source": [
    "count = 0\n",
    "for i in range(rows):\n",
    "    for j in range(cols):\n",
    "        count+=search_(i,j)"
   ]
  },
  {
   "cell_type": "code",
   "execution_count": 64,
   "id": "55485c30-9fa6-4fe3-8d61-23225ab84bd4",
   "metadata": {},
   "outputs": [
    {
     "name": "stdout",
     "output_type": "stream",
     "text": [
      "2543\n"
     ]
    }
   ],
   "source": [
    "print(count)"
   ]
  },
  {
   "cell_type": "code",
   "execution_count": 74,
   "id": "a0eeccc8-690d-424e-b67a-b35386bb45ce",
   "metadata": {},
   "outputs": [],
   "source": [
    "def match_2(w,x,y):\n",
    "    current = df.iloc[w[0]][w[1]]\n",
    "    second = df.iloc[x[0]][x[1]]\n",
    "    third = df.iloc[y[0]][y[1]]\n",
    "    #fourth = df.iloc[z[0]][z[1]]\n",
    "    word = f\"{current}{second}{third}\"\n",
    "    if word == 'MAS' or word == 'SAM':\n",
    "        return True\n",
    "\n",
    "def search_2(i,j):\n",
    "    current_letter = df.iloc[i][j]\n",
    "    current_count=0\n",
    "    if current_letter == 'M' or current_letter == 'S':\n",
    "        if i<=137 and j<=137:\n",
    "            check_diag_down_right = match_2([i,j],[i+1,j+1],[i+2,j+2])\n",
    "            if check_diag_down_right == True:\n",
    "                check_diag_down_left = match_2([i,j+2],[i+1,j+1],[i+2,j])\n",
    "                if check_diag_down_left == True:\n",
    "                    current_count+=1\n",
    "    return current_count"
   ]
  },
  {
   "cell_type": "code",
   "execution_count": 75,
   "id": "294b3c80-dfec-43ee-8f41-f4440fc5afd1",
   "metadata": {},
   "outputs": [],
   "source": [
    "count = 0\n",
    "for i in range(rows):\n",
    "    for j in range(cols):\n",
    "        count+=search_2(i,j)"
   ]
  },
  {
   "cell_type": "code",
   "execution_count": 76,
   "id": "ae3d6f93-a88a-4901-a77f-e281fc184af2",
   "metadata": {},
   "outputs": [
    {
     "name": "stdout",
     "output_type": "stream",
     "text": [
      "1930\n"
     ]
    }
   ],
   "source": [
    "print(count)"
   ]
  },
  {
   "cell_type": "code",
   "execution_count": null,
   "id": "9f7c3147-c3c1-4f91-94f9-da5c66c4a65f",
   "metadata": {},
   "outputs": [],
   "source": []
  }
 ],
 "metadata": {
  "kernelspec": {
   "display_name": "Python 3 (ipykernel)",
   "language": "python",
   "name": "python3"
  },
  "language_info": {
   "codemirror_mode": {
    "name": "ipython",
    "version": 3
   },
   "file_extension": ".py",
   "mimetype": "text/x-python",
   "name": "python",
   "nbconvert_exporter": "python",
   "pygments_lexer": "ipython3",
   "version": "3.12.2"
  }
 },
 "nbformat": 4,
 "nbformat_minor": 5
}
