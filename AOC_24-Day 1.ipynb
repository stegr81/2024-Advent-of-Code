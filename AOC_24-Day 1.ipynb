{
 "cells": [
  {
   "cell_type": "code",
   "execution_count": 3,
   "id": "d27331e4-dad9-4071-8d37-3da497650afc",
   "metadata": {},
   "outputs": [],
   "source": [
    "with open(\"input.txt\", \"r\") as r:\n",
    "    tx = r.readlines()"
   ]
  },
  {
   "cell_type": "code",
   "execution_count": 21,
   "id": "dcc32d65-1213-4bbc-947b-4b82c8779c4b",
   "metadata": {},
   "outputs": [],
   "source": [
    "#tx"
   ]
  },
  {
   "cell_type": "code",
   "execution_count": 9,
   "id": "67f04594-3b0d-4f7d-b750-1b52338cb64d",
   "metadata": {},
   "outputs": [],
   "source": [
    "#prep the data\n",
    "left_list = []\n",
    "right_list = []\n",
    "for i in range(len(tx)):\n",
    "    splt = tx[i].split('   ')\n",
    "    left_list.append(int(splt.pop(0).strip()))\n",
    "    right_list.append(int(splt.pop(0).strip()))"
   ]
  },
  {
   "cell_type": "code",
   "execution_count": 6,
   "id": "5f686524-e502-4d08-b403-f9a9bfbb8e62",
   "metadata": {},
   "outputs": [],
   "source": [
    "#part 1\n",
    "total=0\n",
    "for i in range(len(left_list)):\n",
    "    left_min = left_list.pop(left_list.index(min(left_list)))\n",
    "    right_min = right_list.pop(right_list.index(min(right_list)))\n",
    "    total+=abs(left_min-right_min)\n",
    "print(total)"
   ]
  },
  {
   "cell_type": "code",
   "execution_count": 22,
   "id": "7cf60b90-579a-4839-9903-78d7d983f0cf",
   "metadata": {},
   "outputs": [],
   "source": [
    "#part 2\n",
    "similarity_count = 0\n",
    "for level in left_list:\n",
    "    if level in right_list:\n",
    "        occurence_count = list(filter(lambda x:x==level, right_list))\n",
    "        similarity_count+=level*len(occurence_count)\n",
    "print(similarity_count)"
   ]
  }
 ],
 "metadata": {
  "kernelspec": {
   "display_name": "Python 3 (ipykernel)",
   "language": "python",
   "name": "python3"
  },
  "language_info": {
   "codemirror_mode": {
    "name": "ipython",
    "version": 3
   },
   "file_extension": ".py",
   "mimetype": "text/x-python",
   "name": "python",
   "nbconvert_exporter": "python",
   "pygments_lexer": "ipython3",
   "version": "3.12.2"
  }
 },
 "nbformat": 4,
 "nbformat_minor": 5
}
